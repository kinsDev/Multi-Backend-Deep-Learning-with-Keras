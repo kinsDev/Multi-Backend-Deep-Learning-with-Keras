{
 "cells": [
  {
   "cell_type": "markdown",
   "id": "164fb637",
   "metadata": {},
   "source": [
    "## GPT2 Black Box"
   ]
  },
  {
   "cell_type": "code",
   "execution_count": 1,
   "id": "afe6600a",
   "metadata": {},
   "outputs": [
    {
     "name": "stdout",
     "output_type": "stream",
     "text": [
      "Using TensorFlow backend\n"
     ]
    },
    {
     "name": "stderr",
     "output_type": "stream",
     "text": [
      "2024-03-12 19:37:16.954636: I tensorflow/tsl/cuda/cudart_stub.cc:28] Could not find cuda drivers on your machine, GPU will not be used.\n",
      "2024-03-12 19:37:16.987849: E tensorflow/compiler/xla/stream_executor/cuda/cuda_dnn.cc:9342] Unable to register cuDNN factory: Attempting to register factory for plugin cuDNN when one has already been registered\n",
      "2024-03-12 19:37:16.987884: E tensorflow/compiler/xla/stream_executor/cuda/cuda_fft.cc:609] Unable to register cuFFT factory: Attempting to register factory for plugin cuFFT when one has already been registered\n",
      "2024-03-12 19:37:16.987917: E tensorflow/compiler/xla/stream_executor/cuda/cuda_blas.cc:1518] Unable to register cuBLAS factory: Attempting to register factory for plugin cuBLAS when one has already been registered\n",
      "2024-03-12 19:37:16.994504: I tensorflow/tsl/cuda/cudart_stub.cc:28] Could not find cuda drivers on your machine, GPU will not be used.\n",
      "2024-03-12 19:37:16.995469: I tensorflow/core/platform/cpu_feature_guard.cc:182] This TensorFlow binary is optimized to use available CPU instructions in performance-critical operations.\n",
      "To enable the following instructions: AVX2 FMA, in other operations, rebuild TensorFlow with the appropriate compiler flags.\n",
      "2024-03-12 19:37:17.935825: W tensorflow/compiler/tf2tensorrt/utils/py_utils.cc:38] TF-TRT Warning: Could not find TensorRT\n"
     ]
    }
   ],
   "source": [
    "import os\n",
    "os.environ[\"KERAS_BACKEND\"] = \"tensorflow\"\n",
    "import keras_core as keras\n",
    "import keras_nlp"
   ]
  },
  {
   "cell_type": "code",
   "execution_count": 3,
   "id": "11ad4cd3",
   "metadata": {},
   "outputs": [],
   "source": [
    "gpt = keras_nlp.models.GPT2CausalLM.from_preset(\"gpt2_base_en\")"
   ]
  },
  {
   "cell_type": "code",
   "execution_count": 4,
   "id": "5b8ef2bb",
   "metadata": {},
   "outputs": [
    {
     "name": "stderr",
     "output_type": "stream",
     "text": [
      "2024-03-12 19:41:35.995382: I tensorflow/compiler/xla/service/service.cc:168] XLA service 0x14f7c1d0 initialized for platform Host (this does not guarantee that XLA will be used). Devices:\n",
      "2024-03-12 19:41:35.995423: I tensorflow/compiler/xla/service/service.cc:176]   StreamExecutor device (0): Host, Default Version\n",
      "2024-03-12 19:41:36.086143: I tensorflow/compiler/mlir/tensorflow/utils/dump_mlir_util.cc:269] disabling MLIR crash reproducer, set env var `MLIR_CRASH_REPRODUCER_DIRECTORY` to enable.\n",
      "2024-03-12 19:41:43.097410: I ./tensorflow/compiler/jit/device_compiler.h:186] Compiled cluster using XLA!  This line is logged at most once for the lifetime of the process.\n",
      "2024-03-12 19:41:43.112741: E ./tensorflow/compiler/xla/stream_executor/stream_executor_internal.h:124] SetPriority unimplemented for this stream.\n"
     ]
    },
    {
     "name": "stdout",
     "output_type": "stream",
     "text": [
      "Why did the apple fall from the tree?\n",
      "\n",
      "In the early 1900s the apple was being used as a vegetable and was being used to\n"
     ]
    }
   ],
   "source": [
    "print(gpt.generate(\"Why did the apple fall from the tree?\", max_length = 30))"
   ]
  },
  {
   "cell_type": "code",
   "execution_count": 5,
   "id": "2bc3f44b",
   "metadata": {},
   "outputs": [
    {
     "name": "stdout",
     "output_type": "stream",
     "text": [
      "what is 1 + 1?\n",
      "\n",
      "1 + 2 = 1 + 1\n",
      "\n",
      "2 +\n"
     ]
    }
   ],
   "source": [
    "print(gpt.generate(\"what is 1 + 1?\", max_length = 20))"
   ]
  },
  {
   "cell_type": "markdown",
   "source": [
    "JUST A REMINDER:\n",
    "\n",
    "import os\n",
    "os.environ[\"KERAS_BACKEND\"] = \"tensorflow\"\n",
    "import keras_core as keras\n",
    "import keras_nlp\n",
    "\n",
    "gpt = keras_nlp.models.GPT2CausalLM.from_preset(\"gpt2_base_en\")\n",
    "print(gpt.generate(\"Hello there what is your name?\", max_length = 40))"
   ],
   "metadata": {
    "collapsed": false
   },
   "id": "726a0caed6843769"
  }
 ],
 "metadata": {
  "kernelspec": {
   "display_name": "Python 3 (ipykernel)",
   "language": "python",
   "name": "python3"
  },
  "language_info": {
   "codemirror_mode": {
    "name": "ipython",
    "version": 3
   },
   "file_extension": ".py",
   "mimetype": "text/x-python",
   "name": "python",
   "nbconvert_exporter": "python",
   "pygments_lexer": "ipython3",
   "version": "3.10.13"
  }
 },
 "nbformat": 4,
 "nbformat_minor": 5
}
