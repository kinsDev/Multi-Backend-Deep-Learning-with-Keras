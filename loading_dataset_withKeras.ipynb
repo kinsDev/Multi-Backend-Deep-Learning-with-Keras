{
 "cells": [
  {
   "cell_type": "code",
   "execution_count": 2,
   "id": "initial_id",
   "metadata": {
    "ExecuteTime": {
     "end_time": "2024-03-27T14:40:04.363849700Z",
     "start_time": "2024-03-27T14:39:08.081304100Z"
    }
   },
   "outputs": [],
   "source": [
    "import os\n",
    "os.environ[\"KERAS_BACKEND\"] = \"tensorflow\"\n",
    "import keras\n",
    "from tensorflow.keras.datasets import mnist\n",
    "import numpy as np\n",
    "import pandas as pd\n",
    "from tensorflow.keras.layers import Conv2D, Flatten, Dense, Input\n",
    "from tensorflow.keras.models import Sequential"
   ]
  },
  {
   "cell_type": "markdown",
   "id": "85ed1802b397f2e",
   "metadata": {
    "collapsed": false
   },
   "source": [
    "LOAD THE DATASET"
   ]
  },
  {
   "cell_type": "code",
   "execution_count": 4,
   "id": "adf933d7c34f1e9c",
   "metadata": {
    "collapsed": false,
    "ExecuteTime": {
     "end_time": "2024-03-23T08:21:15.660635600Z",
     "start_time": "2024-03-23T08:21:15.438097900Z"
    }
   },
   "outputs": [],
   "source": [
    "(x_train, y_train), (x_test, y_test) = mnist.load_data()"
   ]
  },
  {
   "cell_type": "code",
   "execution_count": 5,
   "id": "8b3e5c6a2a6d5053",
   "metadata": {
    "collapsed": false,
    "ExecuteTime": {
     "end_time": "2024-03-23T08:21:16.216150500Z",
     "start_time": "2024-03-23T08:21:16.197499300Z"
    }
   },
   "outputs": [
    {
     "data": {
      "text/plain": "(dtype('uint8'), (60000, 28, 28), dtype('uint8'), (60000,))"
     },
     "execution_count": 5,
     "metadata": {},
     "output_type": "execute_result"
    }
   ],
   "source": [
    "x_train.dtype, x_train.shape, y_train.dtype, y_train.shape "
   ]
  },
  {
   "cell_type": "markdown",
   "id": "d573da2d090b16b1",
   "metadata": {
    "collapsed": false
   },
   "source": [
    "MAKE DATA COMPATIBLE WITH KERAS"
   ]
  },
  {
   "cell_type": "code",
   "execution_count": 6,
   "id": "bd22b39214f6d767",
   "metadata": {
    "collapsed": false,
    "ExecuteTime": {
     "end_time": "2024-03-23T08:21:17.579742100Z",
     "start_time": "2024-03-23T08:21:17.429929900Z"
    }
   },
   "outputs": [],
   "source": [
    "x_train = x_train.reshape(x_train.shape[0], 28, 28, 1).astype('float32') / 255\n",
    "x_test = x_test.reshape(x_test.shape[0], 28, 28, 1).astype('float32') / 255\n",
    "y_train = keras.utils.to_categorical(y_train, 10)\n",
    "y_test = keras.utils.to_categorical(y_test, 10)"
   ]
  },
  {
   "cell_type": "code",
   "execution_count": 7,
   "id": "2d9afb07ddbc7d3e",
   "metadata": {
    "collapsed": false,
    "ExecuteTime": {
     "end_time": "2024-03-23T08:21:18.235816600Z",
     "start_time": "2024-03-23T08:21:18.222617700Z"
    }
   },
   "outputs": [
    {
     "data": {
      "text/plain": "(dtype('float32'), (60000, 28, 28, 1), dtype('float32'), (60000, 10))"
     },
     "execution_count": 7,
     "metadata": {},
     "output_type": "execute_result"
    }
   ],
   "source": [
    "x_train.dtype, x_train.shape, y_train.dtype, y_train.shape "
   ]
  },
  {
   "cell_type": "code",
   "execution_count": 8,
   "id": "c26fc1a3efee8e0d",
   "metadata": {
    "collapsed": false,
    "ExecuteTime": {
     "end_time": "2024-03-23T08:21:18.878428600Z",
     "start_time": "2024-03-23T08:21:18.859712600Z"
    }
   },
   "outputs": [],
   "source": [
    "train = (x_train, y_train)\n",
    "test = (x_test, y_test)"
   ]
  },
  {
   "cell_type": "code",
   "execution_count": 9,
   "id": "a5adb17e25ac43a9",
   "metadata": {
    "collapsed": false,
    "ExecuteTime": {
     "end_time": "2024-03-23T08:21:19.911572200Z",
     "start_time": "2024-03-23T08:21:19.412859800Z"
    }
   },
   "outputs": [],
   "source": [
    "import matplotlib.pyplot as plt"
   ]
  },
  {
   "cell_type": "code",
   "execution_count": 10,
   "id": "a77061c406213209",
   "metadata": {
    "collapsed": false,
    "ExecuteTime": {
     "end_time": "2024-03-23T08:21:21.242901500Z",
     "start_time": "2024-03-23T08:21:20.696298Z"
    }
   },
   "outputs": [
    {
     "data": {
      "text/plain": "<Figure size 800x500 with 4 Axes>",
      "image/png": "[encoded data removed]"
     },
     "metadata": {},
     "output_type": "display_data"
    }
   ],
   "source": [
    "fig, axes = plt.subplots(2, 2, figsize = (8, 5))\n",
    "for i in range(len(axes)):\n",
    "    for j in range(len(axes)):\n",
    "        axes[i][j].imshow(train[0][i*len(axes)+j].reshape(28, 28), cmap = 'gray')"
   ]
  },
  {
   "cell_type": "code",
   "execution_count": 11,
   "id": "42a057a2-d163-4634-ba8f-6cc19500273a",
   "metadata": {
    "ExecuteTime": {
     "end_time": "2024-03-23T08:21:21.999376100Z",
     "start_time": "2024-03-23T08:21:21.837783500Z"
    }
   },
   "outputs": [
    {
     "data": {
      "text/plain": "(array([5923., 6742., 5958., 6131., 5842., 5421., 5918., 6265., 5851.,\n        5949.]),\n array([0. , 0.9, 1.8, 2.7, 3.6, 4.5, 5.4, 6.3, 7.2, 8.1, 9. ]),\n <BarContainer object of 10 artists>)"
     },
     "execution_count": 11,
     "metadata": {},
     "output_type": "execute_result"
    },
    {
     "data": {
      "text/plain": "<Figure size 640x480 with 1 Axes>",
      "image/png": "[encoded data removed]"
     },
     "metadata": {},
     "output_type": "display_data"
    }
   ],
   "source": [
    "plt.hist(np.argmax(y_train, axis=1))"
   ]
  },
  {
   "cell_type": "markdown",
   "source": [
    "## SET UP THE MODEL"
   ],
   "metadata": {
    "collapsed": false
   },
   "id": "aaf615dd8b2420a2"
  },
  {
   "cell_type": "code",
   "outputs": [
    {
     "ename": "NameError",
     "evalue": "name 'Sequential' is not defined",
     "output_type": "error",
     "traceback": [
      "\u001B[1;31m---------------------------------------------------------------------------\u001B[0m",
      "\u001B[1;31mNameError\u001B[0m                                 Traceback (most recent call last)",
      "Cell \u001B[1;32mIn[1], line 1\u001B[0m\n\u001B[1;32m----> 1\u001B[0m model \u001B[38;5;241m=\u001B[39m \u001B[43mSequential\u001B[49m([\n\u001B[0;32m      2\u001B[0m     Conv2D(\u001B[38;5;241m32\u001B[39m, (\u001B[38;5;241m3\u001B[39m, \u001B[38;5;241m3\u001B[39m), activation \u001B[38;5;241m=\u001B[39m \u001B[38;5;124m\"\u001B[39m\u001B[38;5;124mrelu\u001B[39m\u001B[38;5;124m\"\u001B[39m, input_shape \u001B[38;5;241m=\u001B[39m (\u001B[38;5;241m28\u001B[39m, \u001B[38;5;241m28\u001B[39m, \u001B[38;5;241m1\u001B[39m)),\n\u001B[0;32m      3\u001B[0m     Conv2D(\u001B[38;5;241m32\u001B[39m, (\u001B[38;5;241m3\u001B[39m, \u001B[38;5;241m3\u001B[39m), activation \u001B[38;5;241m=\u001B[39m \u001B[38;5;124m\"\u001B[39m\u001B[38;5;124mrelu\u001B[39m\u001B[38;5;124m\"\u001B[39m),\n\u001B[0;32m      4\u001B[0m     Conv2D(\u001B[38;5;241m32\u001B[39m, (\u001B[38;5;241m3\u001B[39m, \u001B[38;5;241m3\u001B[39m), activation \u001B[38;5;241m=\u001B[39m \u001B[38;5;124m\"\u001B[39m\u001B[38;5;124mrelu\u001B[39m\u001B[38;5;124m\"\u001B[39m),\n\u001B[0;32m      5\u001B[0m     Flatten(),\n\u001B[0;32m      6\u001B[0m     Dense(\u001B[38;5;241m10\u001B[39m, activation \u001B[38;5;241m=\u001B[39m \u001B[38;5;124m\"\u001B[39m\u001B[38;5;124msoftmax\u001B[39m\u001B[38;5;124m\"\u001B[39m)\n\u001B[0;32m      7\u001B[0m ])\n\u001B[0;32m      8\u001B[0m model\u001B[38;5;241m.\u001B[39msummary()\n",
      "\u001B[1;31mNameError\u001B[0m: name 'Sequential' is not defined"
     ]
    }
   ],
   "source": [
    "model = Sequential([\n",
    "    Conv2D(32, (3, 3), activation = \"relu\", input_shape = (28, 28, 1)),\n",
    "    Conv2D(32, (3, 3), activation = \"relu\"),\n",
    "    Conv2D(32, (3, 3), activation = \"relu\"),\n",
    "    Flatten(),\n",
    "    Dense(10, activation = \"softmax\")\n",
    "])\n",
    "model.summary()"
   ],
   "metadata": {
    "collapsed": false,
    "ExecuteTime": {
     "end_time": "2024-03-23T08:45:01.203436700Z",
     "start_time": "2024-03-23T08:45:00.489673700Z"
    }
   },
   "id": "623a462db5a1c172",
   "execution_count": 1
  },
  {
   "cell_type": "code",
   "outputs": [],
   "source": [
    "inputs = layers.Input(shape = (train[0][0].shape))\n",
    "x = layers.Conv2D(3, 3, activation = \"relu\")(inputs)\n",
    "x = layers.Conv2D(3, 3, activation = \"relu\")(x)\n",
    "x = layers.Conv2D(3, 3, activation = \"relu\")(x)\n",
    "x = layers.Flatten()(x)\n",
    "outputs = layers.Dense(10, activation = \"softmax\")(x)\n",
    "\n",
    "model = keras.Model(inputs, outputs)\n",
    "model.summary()"
   ],
   "metadata": {
    "collapsed": false,
    "ExecuteTime": {
     "start_time": "2024-03-23T08:45:01.205643100Z"
    }
   },
   "id": "a0c9cdbf26c539af",
   "execution_count": null
  },
  {
   "cell_type": "markdown",
   "source": [
    "Compile The Model"
   ],
   "metadata": {
    "collapsed": false
   },
   "id": "469563fce353255e"
  },
  {
   "cell_type": "code",
   "outputs": [],
   "source": [
    "y_train"
   ],
   "metadata": {
    "collapsed": false
   },
   "id": "cb3aa3eaabb1d981"
  },
  {
   "cell_type": "code",
   "outputs": [],
   "source": [
    "model.compile(\n",
    "    optimizer = keras.optimizers.Adam(),\n",
    "    loss =keras.losses.SparseCategoricalCrossentropy(), \n",
    "    metrics = [\"accuracy\"]\n",
    ")"
   ],
   "metadata": {
    "collapsed": false
   },
   "id": "3eb8cf8a54ebe93a"
  },
  {
   "cell_type": "code",
   "outputs": [],
   "source": [
    "## Train the Model"
   ],
   "metadata": {
    "collapsed": false
   },
   "id": "9a60a28b5d6d0491"
  },
  {
   "cell_type": "code",
   "outputs": [],
   "source": [
    "history = model.fit(x = train[0], y=train[1], batch_size=32, epochs = 5, validation_split = 0.2)"
   ],
   "metadata": {
    "collapsed": false
   },
   "id": "5b92a6975f7f6b39"
  },
  {
   "cell_type": "code",
   "outputs": [],
   "source": [],
   "metadata": {
    "collapsed": false
   },
   "id": "94053f7a22bea529"
  }
 ],
 "metadata": {
  "kernelspec": {
   "name": "torchtensor",
   "language": "python",
   "display_name": "TorchTensor"
  },
  "language_info": {
   "codemirror_mode": {
    "name": "ipython",
    "version": 3
   },
   "file_extension": ".py",
   "mimetype": "text/x-python",
   "name": "python",
   "nbconvert_exporter": "python",
   "pygments_lexer": "ipython3",
   "version": "3.10.13"
  }
 },
 "nbformat": 4,
 "nbformat_minor": 5
}
