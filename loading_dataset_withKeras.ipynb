{
 "cells": [
  {
   "cell_type": "code",
   "execution_count": 5,
   "id": "initial_id",
   "metadata": {
    "ExecuteTime": {
     "end_time": "2024-03-23T07:24:34.277874100Z",
     "start_time": "2024-03-23T07:24:34.256050600Z"
    }
   },
   "outputs": [],
   "source": [
    "import os\n",
    "os.environ[\"KERAS_BACKEND\"] = \"tensorflow\"\n",
    "import keras\n",
    "from tensorflow.keras.datasets import mnist\n",
    "import numpy as np\n",
    "import pandas as pd\n"
   ]
  },
  {
   "cell_type": "markdown",
   "id": "85ed1802b397f2e",
   "metadata": {
    "collapsed": false
   },
   "source": [
    "LOAD THE DATASET"
   ]
  },
  {
   "cell_type": "code",
   "execution_count": 6,
   "id": "adf933d7c34f1e9c",
   "metadata": {
    "collapsed": false,
    "ExecuteTime": {
     "end_time": "2024-03-23T07:24:37.741841200Z",
     "start_time": "2024-03-23T07:24:37.513746400Z"
    }
   },
   "outputs": [],
   "source": [
    "(x_train, y_train), (x_test, y_test) = mnist.load_data()"
   ]
  },
  {
   "cell_type": "code",
   "execution_count": 7,
   "id": "8b3e5c6a2a6d5053",
   "metadata": {
    "collapsed": false,
    "ExecuteTime": {
     "end_time": "2024-03-23T07:24:38.961338Z",
     "start_time": "2024-03-23T07:24:38.934080400Z"
    }
   },
   "outputs": [
    {
     "data": {
      "text/plain": "(dtype('uint8'), (60000, 28, 28), dtype('uint8'), (60000,))"
     },
     "execution_count": 7,
     "metadata": {},
     "output_type": "execute_result"
    }
   ],
   "source": [
    "x_train.dtype, x_train.shape, y_train.dtype, y_train.shape "
   ]
  },
  {
   "cell_type": "markdown",
   "id": "d573da2d090b16b1",
   "metadata": {
    "collapsed": false
   },
   "source": [
    "MAKE DATA COMPATIBLE WITH KERAS"
   ]
  },
  {
   "cell_type": "code",
   "execution_count": 8,
   "id": "bd22b39214f6d767",
   "metadata": {
    "collapsed": false,
    "ExecuteTime": {
     "end_time": "2024-03-23T07:24:41.464233900Z",
     "start_time": "2024-03-23T07:24:41.355948700Z"
    }
   },
   "outputs": [],
   "source": [
    "x_train = np.expand_dims(x_train, axis = -1).astype('float32')\n",
    "x_test = np.expand_dims(x_test, axis = -1).astype('float32')\n",
    "y_train = np.expand_dims(y_train, axis = -1)\n",
    "y_test = np.expand_dims(y_test, axis = -1)"
   ]
  },
  {
   "cell_type": "code",
   "execution_count": 9,
   "id": "2d9afb07ddbc7d3e",
   "metadata": {
    "collapsed": false,
    "ExecuteTime": {
     "end_time": "2024-03-23T07:24:42.935576900Z",
     "start_time": "2024-03-23T07:24:42.920139Z"
    }
   },
   "outputs": [
    {
     "data": {
      "text/plain": "(dtype('float32'), (60000, 28, 28, 1), dtype('uint8'), (60000, 1))"
     },
     "execution_count": 9,
     "metadata": {},
     "output_type": "execute_result"
    }
   ],
   "source": [
    "x_train.dtype, x_train.shape, y_train.dtype, y_train.shape "
   ]
  },
  {
   "cell_type": "code",
   "execution_count": 10,
   "id": "c26fc1a3efee8e0d",
   "metadata": {
    "collapsed": false,
    "ExecuteTime": {
     "end_time": "2024-03-23T07:24:44.082013800Z",
     "start_time": "2024-03-23T07:24:44.064481400Z"
    }
   },
   "outputs": [],
   "source": [
    "train = (x_train, y_train)\n",
    "test = (x_test, y_test)"
   ]
  },
  {
   "cell_type": "code",
   "execution_count": 11,
   "id": "a5adb17e25ac43a9",
   "metadata": {
    "collapsed": false,
    "ExecuteTime": {
     "end_time": "2024-03-23T07:24:46.063254300Z",
     "start_time": "2024-03-23T07:24:45.326050300Z"
    }
   },
   "outputs": [],
   "source": [
    "import matplotlib.pyplot as plt"
   ]
  },
  {
   "cell_type": "code",
   "execution_count": 12,
   "id": "a77061c406213209",
   "metadata": {
    "collapsed": false,
    "ExecuteTime": {
     "end_time": "2024-03-23T07:24:47.575994200Z",
     "start_time": "2024-03-23T07:24:46.847438700Z"
    }
   },
   "outputs": [
    {
     "data": {
      "text/plain": "<Figure size 800x500 with 4 Axes>",
      "image/png": "[encoded data removed]"
     },
     "metadata": {},
     "output_type": "display_data"
    }
   ],
   "source": [
    "fig, axes = plt.subplots(2, 2, figsize = (8, 5))\n",
    "for i in range(len(axes)):\n",
    "    for j in range(len(axes)):\n",
    "        axes[i][j].imshow(train[0][i*len(axes)+j])"
   ]
  },
  {
   "cell_type": "code",
   "execution_count": 13,
   "id": "42a057a2-d163-4634-ba8f-6cc19500273a",
   "metadata": {
    "ExecuteTime": {
     "end_time": "2024-03-23T07:24:48.693859500Z",
     "start_time": "2024-03-23T07:24:48.441652200Z"
    }
   },
   "outputs": [
    {
     "data": {
      "text/plain": "(array([5923., 6742., 5958., 6131., 5842., 5421., 5918., 6265., 5851.,\n        5949.]),\n array([0. , 0.9, 1.8, 2.7, 3.6, 4.5, 5.4, 6.3, 7.2, 8.1, 9. ]),\n <BarContainer object of 10 artists>)"
     },
     "execution_count": 13,
     "metadata": {},
     "output_type": "execute_result"
    },
    {
     "data": {
      "text/plain": "<Figure size 640x480 with 1 Axes>",
      "image/png": "[encoded data removed]"
     },
     "metadata": {},
     "output_type": "display_data"
    }
   ],
   "source": [
    "plt.hist(y_train)"
   ]
  },
  {
   "cell_type": "markdown",
   "source": [
    "## SET UP THE MODEL"
   ],
   "metadata": {
    "collapsed": false
   },
   "id": "aaf615dd8b2420a2"
  },
  {
   "cell_type": "code",
   "outputs": [],
   "source": [
    "from tensorflow.keras import layers\n",
    "from tensorflow.keras.models import Sequential"
   ],
   "metadata": {
    "collapsed": false,
    "ExecuteTime": {
     "end_time": "2024-03-23T07:25:28.049508400Z",
     "start_time": "2024-03-23T07:25:27.969612Z"
    }
   },
   "id": "41a88ae0425db1b3",
   "execution_count": 16
  },
  {
   "cell_type": "code",
   "outputs": [],
   "source": [
    "model = Sequential([\n",
    "    layers.Conv2D(3, 3, activation = \"relu\"),\n",
    "    layers.Conv2D(3, 3, activation = \"relu\"),\n",
    "    layers.Conv2D(3, 3, activation = \"relu\"),\n",
    "    layers.Flatten(),\n",
    "    layers.Dense(10, activation = \"softmax\")\n",
    "])\n",
    "model.summary()"
   ],
   "metadata": {
    "collapsed": false,
    "is_executing": true,
    "ExecuteTime": {
     "start_time": "2024-03-23T07:25:28.919385700Z"
    }
   },
   "id": "623a462db5a1c172",
   "execution_count": null
  },
  {
   "cell_type": "code",
   "outputs": [],
   "source": [
    "inputs = layers.Input(shape = (train[0][0].shape))\n",
    "x = layers.Conv2D(3, 3, activation = \"relu\")(inputs)\n",
    "x = layers.Conv2D(3, 3, activation = \"relu\")(x)\n",
    "x = layers.Conv2D(3, 3, activation = \"relu\")(x)\n",
    "x = layers.Flatten()(x)\n",
    "outputs = layers.Dense(10, activation = \"softmax\")(x)\n",
    "\n",
    "model = keras.Model(inputs, outputs)\n",
    "model.summary()"
   ],
   "metadata": {
    "collapsed": false
   },
   "id": "a0c9cdbf26c539af"
  }
 ],
 "metadata": {
  "kernelspec": {
   "display_name": "TorchTensor",
   "language": "python",
   "name": "torchtensor"
  },
  "language_info": {
   "codemirror_mode": {
    "name": "ipython",
    "version": 3
   },
   "file_extension": ".py",
   "mimetype": "text/x-python",
   "name": "python",
   "nbconvert_exporter": "python",
   "pygments_lexer": "ipython3",
   "version": "3.10.13"
  }
 },
 "nbformat": 4,
 "nbformat_minor": 5
}
