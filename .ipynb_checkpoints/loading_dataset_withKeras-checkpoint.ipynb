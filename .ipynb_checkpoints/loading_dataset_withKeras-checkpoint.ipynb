{
 "cells": [
  {
   "cell_type": "code",
   "execution_count": 1,
   "id": "initial_id",
   "metadata": {
    "ExecuteTime": {
     "end_time": "2024-03-22T15:17:51.358969300Z",
     "start_time": "2024-03-22T15:17:51.141495400Z"
    }
   },
   "outputs": [],
   "source": [
    "import os\n",
    "os.environ[\"KERAS_BACKEND\"] = \"tensorflow\"\n",
    "import keras\n",
    "from tensorflow.keras.datasets import mnist\n",
    "import numpy as np\n",
    "import pandas as pd\n"
   ]
  },
  {
   "cell_type": "markdown",
   "id": "85ed1802b397f2e",
   "metadata": {
    "collapsed": false,
    "jupyter": {
     "outputs_hidden": false
    }
   },
   "source": [
    "LOAD THE DATASET"
   ]
  },
  {
   "cell_type": "code",
   "execution_count": 2,
   "id": "adf933d7c34f1e9c",
   "metadata": {
    "ExecuteTime": {
     "end_time": "2024-03-22T15:18:15.177035500Z",
     "start_time": "2024-03-22T15:18:09.859203Z"
    },
    "collapsed": false,
    "jupyter": {
     "outputs_hidden": false
    }
   },
   "outputs": [],
   "source": [
    "(x_train, y_train), (x_test, y_test) = mnist.load_data()"
   ]
  },
  {
   "cell_type": "code",
   "execution_count": 3,
   "id": "8b3e5c6a2a6d5053",
   "metadata": {
    "ExecuteTime": {
     "end_time": "2024-03-22T15:18:22.106135200Z",
     "start_time": "2024-03-22T15:18:22.017297300Z"
    },
    "collapsed": false,
    "jupyter": {
     "outputs_hidden": false
    }
   },
   "outputs": [
    {
     "data": {
      "text/plain": [
       "(dtype('uint8'), (60000, 28, 28), dtype('uint8'), (60000,))"
      ]
     },
     "execution_count": 3,
     "metadata": {},
     "output_type": "execute_result"
    }
   ],
   "source": [
    "x_train.dtype, x_train.shape, y_train.dtype, y_train.shape "
   ]
  },
  {
   "cell_type": "markdown",
   "id": "d573da2d090b16b1",
   "metadata": {
    "collapsed": false,
    "jupyter": {
     "outputs_hidden": false
    }
   },
   "source": [
    "MAKE DATA COMPATIBLE WITH KERAS"
   ]
  },
  {
   "cell_type": "code",
   "execution_count": 4,
   "id": "bd22b39214f6d767",
   "metadata": {
    "ExecuteTime": {
     "end_time": "2024-03-22T15:24:31.638255900Z",
     "start_time": "2024-03-22T15:24:31.556576400Z"
    },
    "collapsed": false,
    "jupyter": {
     "outputs_hidden": false
    }
   },
   "outputs": [],
   "source": [
    "x_train = np.expand_dims(x_train, axis = -1).astype('float32')\n",
    "x_test = np.expand_dims(x_test, axis = -1).astype('float32')\n",
    "y_train = np.expand_dims(y_train, axis = -1)\n",
    "y_test = np.expand_dims(y_test, axis = -1)"
   ]
  },
  {
   "cell_type": "code",
   "execution_count": 5,
   "id": "2d9afb07ddbc7d3e",
   "metadata": {
    "ExecuteTime": {
     "end_time": "2024-03-22T15:24:51.424265600Z",
     "start_time": "2024-03-22T15:24:51.411146400Z"
    },
    "collapsed": false,
    "jupyter": {
     "outputs_hidden": false
    }
   },
   "outputs": [
    {
     "data": {
      "text/plain": [
       "(dtype('float32'), (60000, 28, 28, 1), dtype('uint8'), (60000, 1))"
      ]
     },
     "execution_count": 5,
     "metadata": {},
     "output_type": "execute_result"
    }
   ],
   "source": [
    "x_train.dtype, x_train.shape, y_train.dtype, y_train.shape "
   ]
  },
  {
   "cell_type": "code",
   "execution_count": 6,
   "id": "c26fc1a3efee8e0d",
   "metadata": {
    "ExecuteTime": {
     "end_time": "2024-03-22T15:28:42.584611700Z",
     "start_time": "2024-03-22T15:28:42.453425100Z"
    },
    "collapsed": false,
    "jupyter": {
     "outputs_hidden": false
    }
   },
   "outputs": [],
   "source": [
    "train = (x_train, y_train)\n",
    "test = (x_test, y_test)"
   ]
  },
  {
   "cell_type": "code",
   "execution_count": 7,
   "id": "a5adb17e25ac43a9",
   "metadata": {
    "ExecuteTime": {
     "end_time": "2024-03-22T15:29:07.825956900Z",
     "start_time": "2024-03-22T15:29:07.629185400Z"
    },
    "collapsed": false,
    "jupyter": {
     "outputs_hidden": false
    }
   },
   "outputs": [],
   "source": [
    "import matplotlib.pyplot as plt"
   ]
  },
  {
   "cell_type": "code",
   "execution_count": 8,
   "id": "a77061c406213209",
   "metadata": {
    "collapsed": false,
    "jupyter": {
     "outputs_hidden": false
    }
   },
   "outputs": [
    {
     "data": {
      "image/png": "[encoded data removed]",
      "text/plain": [
       "<Figure size 800x500 with 4 Axes>"
      ]
     },
     "metadata": {},
     "output_type": "display_data"
    }
   ],
   "source": [
    "fig, axes = plt.subplots(2, 2, figsize = (8, 5))\n",
    "for i in range(len(axes)):\n",
    "    for j in range(len(axes)):\n",
    "        axes[i][j].imshow(train[0][i*len(axes)+j])"
   ]
  },
  {
   "cell_type": "code",
   "execution_count": null,
   "id": "42a057a2-d163-4634-ba8f-6cc19500273a",
   "metadata": {},
   "outputs": [],
   "source": []
  }
 ],
 "metadata": {
  "kernelspec": {
   "display_name": "TorchTensor",
   "language": "python",
   "name": "torchtensor"
  },
  "language_info": {
   "codemirror_mode": {
    "name": "ipython",
    "version": 3
   },
   "file_extension": ".py",
   "mimetype": "text/x-python",
   "name": "python",
   "nbconvert_exporter": "python",
   "pygments_lexer": "ipython3",
   "version": "3.10.13"
  }
 },
 "nbformat": 4,
 "nbformat_minor": 5
}
